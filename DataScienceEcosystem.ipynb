{
 "cells": [
  {
   "cell_type": "markdown",
   "id": "f8f69344",
   "metadata": {},
   "source": [
    "# Data Science Tools and Ecosystem\n"
   ]
  },
  {
   "cell_type": "markdown",
   "id": "a3dcaee2",
   "metadata": {},
   "source": [
    "In this notebook, Data Science Tools and Ecosystem are summarized."
   ]
  },
  {
   "cell_type": "markdown",
   "id": "84ad741d",
   "metadata": {},
   "source": [
    "Some of the popular languages that Data Scientists use are:\n",
    "\n",
    "1. Python\n",
    "2. R\n",
    "3. SQL\n",
    "4. Java\n",
    "5. Scala"
   ]
  },
  {
   "cell_type": "markdown",
   "id": "684a964b",
   "metadata": {},
   "source": [
    "Some of the commonly used libraries used by Data Scientists include:\n",
    "1. pandas\n",
    "2. numpy\n",
    "3. matplotlib\n",
    "4. Tensorflow\n",
    "5. seaborn\n",
    "6. scikit-learn\n",
    "7. keras\n",
    "8. scipy"
   ]
  },
  {
   "cell_type": "markdown",
   "id": "c34e0bd9",
   "metadata": {},
   "source": [
    "   | Data Science Tools |\n",
    "   | ------------------ |\n",
    "   | Jupyter Notebook   |\n",
    "   | R studio           |\n",
    "   | Visual studio code |\n"
   ]
  },
  {
   "cell_type": "markdown",
   "id": "3cbe00dc",
   "metadata": {},
   "source": [
    "### Below are a few examples of evaluating arithmetic expressions in Python."
   ]
  },
  {
   "cell_type": "code",
   "execution_count": 2,
   "id": "b111f5c1",
   "metadata": {},
   "outputs": [
    {
     "data": {
      "text/plain": [
       "17"
      ]
     },
     "execution_count": 2,
     "metadata": {},
     "output_type": "execute_result"
    }
   ],
   "source": [
    "(3*4)+5 #This a simple arithmetic expression to mutiply then add integers.\n"
   ]
  },
  {
   "cell_type": "code",
   "execution_count": 6,
   "id": "3bbd1259",
   "metadata": {},
   "outputs": [
    {
     "data": {
      "text/plain": [
       "3.3333333333333335"
      ]
     },
     "execution_count": 6,
     "metadata": {},
     "output_type": "execute_result"
    }
   ],
   "source": [
    "#This will convert 200 minutes to hours by diving by 60.\n",
    "200/60"
   ]
  },
  {
   "cell_type": "markdown",
   "id": "22b2a8bb",
   "metadata": {},
   "source": [
    "Objectives : \n",
    "+ Python\n",
    "+ R\n",
    "+ SQL\n",
    "+ Java\n",
    "+ Scala"
   ]
  },
  {
   "cell_type": "markdown",
   "id": "213c5438",
   "metadata": {},
   "source": [
    "## Author\n",
    "Amgoth Sunil"
   ]
  }
 ],
 "metadata": {
  "kernelspec": {
   "display_name": "Python 3 (ipykernel)",
   "language": "python",
   "name": "python3"
  },
  "language_info": {
   "codemirror_mode": {
    "name": "ipython",
    "version": 3
   },
   "file_extension": ".py",
   "mimetype": "text/x-python",
   "name": "python",
   "nbconvert_exporter": "python",
   "pygments_lexer": "ipython3",
   "version": "3.11.5"
  }
 },
 "nbformat": 4,
 "nbformat_minor": 5
}
